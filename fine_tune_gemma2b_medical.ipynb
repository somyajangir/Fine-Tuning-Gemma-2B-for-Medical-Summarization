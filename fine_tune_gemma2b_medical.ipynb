{
 "cells": [
  {
   "cell_type": "code",
   "execution_count": null,
   "metadata": {
    "colab": {
     "base_uri": "https://localhost:8080/"
    },
    "id": "DIMCnnYRY0jy",
    "outputId": "5162ad95-dc3a-4597-bf9d-60a8dfaedf1c"
   },
   "outputs": [
    {
     "name": "stdout",
     "output_type": "stream",
     "text": [
      "Found existing installation: transformers 4.55.2\n",
      "Uninstalling transformers-4.55.2:\n",
      "  Successfully uninstalled transformers-4.55.2\n",
      "Found existing installation: accelerate 1.10.0\n",
      "Uninstalling accelerate-1.10.0:\n",
      "  Successfully uninstalled accelerate-1.10.0\n",
      "Found existing installation: trl 0.21.0\n",
      "Uninstalling trl-0.21.0:\n",
      "  Successfully uninstalled trl-0.21.0\n",
      "Found existing installation: peft 0.17.0\n",
      "Uninstalling peft-0.17.0:\n",
      "  Successfully uninstalled peft-0.17.0\n",
      "Found existing installation: bitsandbytes 0.47.0\n",
      "Uninstalling bitsandbytes-0.47.0:\n",
      "  Successfully uninstalled bitsandbytes-0.47.0\n",
      "✅ Clean and compatible libraries installed successfully.\n"
     ]
    }
   ],
   "source": [
    "# Install specific, compatible versions\n",
    "!pip install -q -U transformers peft accelerate bitsandbytes trl datasets\n",
    "\n",
    "print(\"✅ Clean and compatible libraries installed successfully.\")"
   ]
  },
  {
   "cell_type": "code",
   "execution_count": null,
   "metadata": {
    "colab": {
     "base_uri": "https://localhost:8080/"
    },
    "id": "0ySEn6WCY_fg",
    "outputId": "2a4d3d54-9906-4e29-ee98-754e57553631"
   },
   "outputs": [
    {
     "name": "stdout",
     "output_type": "stream",
     "text": [
      "🔑 Hugging Face token configured.\n"
     ]
    }
   ],
   "source": [
    "from google.colab import userdata\n",
    "import os\n",
    "\n",
    "# Use Colab Secrets to store your Hugging Face token\n",
    "os.environ[\"HF_TOKEN\"] = userdata.get('HF_TOKEN')\n",
    "\n",
    "print(\"🔑 Hugging Face token configured.\")"
   ]
  },
  {
   "cell_type": "code",
   "execution_count": null,
   "metadata": {
    "colab": {
     "base_uri": "https://localhost:8080/",
     "height": 118,
     "referenced_widgets": [
      "966e134c161f4415ace15162af9f4ca7",
      "44bea4f81baf4935b656fdcac0e98827",
      "e3b47874295c4e8f9635047735cc0bcf",
      "1beeaaed14f74163a02f51eb1cdadc74",
      "e6ae494d90ff4745b01d73742caf90aa",
      "4566d21efce94acb9efe8926f85182ed",
      "5f2bcf4fa5bb4aaea3aea557cb27a02f",
      "76cb146ca060428b9523eabc39ff63d0",
      "e271f228d0e84446939f5cc770023d29",
      "375bc9bdadf14bebbd61d6266c54a8ec",
      "40daf2708b9d4c1b8cafc0f2ef1a8ac0"
     ]
    },
    "id": "_bUwCFraZbkg",
    "outputId": "73f00be9-212f-46b2-efa6-5312fd8a6db5"
   },
   "outputs": [
    {
     "name": "stdout",
     "output_type": "stream",
     "text": [
      "🔄 Loading model: google/gemma-2b-it\n"
     ]
    },
    {
     "data": {
      "application/vnd.jupyter.widget-view+json": {
       "model_id": "966e134c161f4415ace15162af9f4ca7",
       "version_major": 2,
       "version_minor": 0
      },
      "text/plain": [
       "Loading checkpoint shards:   0%|          | 0/2 [00:00<?, ?it/s]"
      ]
     },
     "metadata": {},
     "output_type": "display_data"
    },
    {
     "name": "stdout",
     "output_type": "stream",
     "text": [
      "✅ Model and Tokenizer loaded.\n",
      "🔄 Loading and preparing dataset: har1/MTS_Dialogue-Clinical_Note\n",
      "✅ Dataset prepared with 'text' column.\n"
     ]
    }
   ],
   "source": [
    "import torch\n",
    "from transformers import AutoTokenizer, AutoModelForCausalLM, BitsAndBytesConfig\n",
    "from datasets import load_dataset\n",
    "\n",
    "# --- Model & Tokenizer Loading ---\n",
    "model_id = \"google/gemma-2b-it\"\n",
    "print(f\"🔄 Loading model: {model_id}\")\n",
    "\n",
    "quantization_config = BitsAndBytesConfig(\n",
    "    load_in_4bit=True,\n",
    "    bnb_4bit_quant_type=\"nf4\",\n",
    "    bnb_4bit_compute_dtype=torch.bfloat16\n",
    ")\n",
    "tokenizer = AutoTokenizer.from_pretrained(model_id, token=os.environ[\"HF_TOKEN\"])\n",
    "model = AutoModelForCausalLM.from_pretrained(\n",
    "    model_id,\n",
    "    quantization_config=quantization_config,\n",
    "    device_map=\"auto\",\n",
    "    token=os.environ[\"HF_TOKEN\"]\n",
    ")\n",
    "print(\"✅ Model and Tokenizer loaded.\")\n",
    "\n",
    "# --- Dataset Loading & Formatting ---\n",
    "dataset_id = \"har1/MTS_Dialogue-Clinical_Note\"\n",
    "print(f\"🔄 Loading and preparing dataset: {dataset_id}\")\n",
    "\n",
    "def format_prompt(example):\n",
    "    prompt = f\"\"\"<start_of_turn>user\n",
    "From the following doctor-patient dialogue, extract the key information and write the '{example['section_header']}' section of a clinical note.\n",
    "\n",
    "### Dialogue:\n",
    "{example['dialogue']}<end_of_turn>\n",
    "<start_of_turn>model\n",
    "### Clinical Note Section:\n",
    "{example['section_text']}<end_of_turn>\"\"\"\n",
    "    return {\"text\": prompt}\n",
    "\n",
    "processed_dataset = load_dataset(dataset_id, split=\"train\").map(format_prompt)\n",
    "print(\"✅ Dataset prepared with 'text' column.\")"
   ]
  },
  {
   "cell_type": "code",
   "execution_count": null,
   "metadata": {
    "colab": {
     "base_uri": "https://localhost:8080/"
    },
    "id": "h7CIA5aOawVf",
    "outputId": "0708ae04-4c65-4654-c6d6-419d277cfddd"
   },
   "outputs": [
    {
     "name": "stdout",
     "output_type": "stream",
     "text": [
      "✅ Trainer configured with your working structure and memory optimizations.\n"
     ]
    }
   ],
   "source": [
    "from peft import LoraConfig\n",
    "from trl import SFTConfig, SFTTrainer\n",
    "\n",
    "# --- LoRA Config (No changes needed here) ---\n",
    "lora_config = LoraConfig(\n",
    "    r=16,\n",
    "    lora_alpha=32,\n",
    "    target_modules=[\"q_proj\", \"o_proj\", \"k_proj\", \"v_proj\", \"gate_proj\", \"up_proj\", \"down_proj\"],\n",
    "    lora_dropout=0.05,\n",
    "    task_type=\"CAUSAL_LM\",\n",
    ")\n",
    "\n",
    "# --- SFTConfig (This is where we make the changes) ---\n",
    "training_config = SFTConfig(\n",
    "    output_dir=\"scribe-assist-gemma-finetuned\",\n",
    "    num_train_epochs=1,\n",
    "    per_device_train_batch_size=1,      # <-- CHANGED FROM 2 to 1\n",
    "    gradient_accumulation_steps=16,   # <-- CHANGED FROM 8 to 16\n",
    "    learning_rate=2e-4,\n",
    "    logging_steps=25,\n",
    "    save_strategy=\"epoch\",\n",
    "    save_total_limit=2,\n",
    "    optim=\"paged_adamw_8bit\",\n",
    "    dataset_text_field=\"text\",\n",
    "    max_length=1024,\n",
    "    report_to=\"none\",\n",
    ")\n",
    "\n",
    "# --- SFTTrainer (Using your exact working structure) ---\n",
    "trainer = SFTTrainer(\n",
    "    model=model,\n",
    "    processing_class=tokenizer,\n",
    "    train_dataset=processed_dataset,\n",
    "    peft_config=lora_config,\n",
    "    args=training_config,\n",
    ")\n",
    "\n",
    "print(\"✅ Trainer configured with your working structure and memory optimizations.\")"
   ]
  },
  {
   "cell_type": "code",
   "execution_count": null,
   "metadata": {
    "colab": {
     "base_uri": "https://localhost:8080/",
     "height": 273
    },
    "id": "QscZDMcjkPYD",
    "outputId": "1f737adf-14f9-4b8b-8b81-35daa0887513"
   },
   "outputs": [
    {
     "name": "stdout",
     "output_type": "stream",
     "text": [
      "🚀 Starting the fine-tuning process...\n",
      "If the session disconnects, the latest checkpoint will be in the output directory.\n"
     ]
    },
    {
     "data": {
      "text/html": [
       "\n",
       "    <div>\n",
       "      \n",
       "      <progress value='82' max='82' style='width:300px; height:20px; vertical-align: middle;'></progress>\n",
       "      [82/82 33:39, Epoch 1/1]\n",
       "    </div>\n",
       "    <table border=\"1\" class=\"dataframe\">\n",
       "  <thead>\n",
       " <tr style=\"text-align: left;\">\n",
       "      <th>Step</th>\n",
       "      <th>Training Loss</th>\n",
       "    </tr>\n",
       "  </thead>\n",
       "  <tbody>\n",
       "    <tr>\n",
       "      <td>25</td>\n",
       "      <td>1.876700</td>\n",
       "    </tr>\n",
       "    <tr>\n",
       "      <td>50</td>\n",
       "      <td>1.363900</td>\n",
       "    </tr>\n",
       "    <tr>\n",
       "      <td>75</td>\n",
       "      <td>1.305500</td>\n",
       "    </tr>\n",
       "  </tbody>\n",
       "</table><p>"
      ],
      "text/plain": [
       "<IPython.core.display.HTML object>"
      ]
     },
     "metadata": {},
     "output_type": "display_data"
    },
    {
     "name": "stdout",
     "output_type": "stream",
     "text": [
      "✅ Fine-tuning completed successfully!\n",
      "\n",
      "💾 Saving the final model adapter...\n",
      "✅ Final model adapter saved successfully to 'scribe-assist-gemma-final-adapter'.\n"
     ]
    }
   ],
   "source": [
    "import logging\n",
    "\n",
    "# Set logging to info to see underlying details\n",
    "logging.basicConfig(level=logging.INFO)\n",
    "\n",
    "print(\"🚀 Starting the fine-tuning process...\")\n",
    "print(\"If the session disconnects, the latest checkpoint will be in the output directory.\")\n",
    "\n",
    "try:\n",
    "  # This command starts the training.\n",
    "  # The trainer will automatically save checkpoints at the end of each epoch\n",
    "  # because we set save_strategy=\"epoch\".\n",
    "  trainer.train()\n",
    "\n",
    "  print(\"✅ Fine-tuning completed successfully!\")\n",
    "\n",
    "finally:\n",
    "  # This block will execute NO MATTER WHAT happens in the `try` block.\n",
    "  # This is our safety net to save the final model state.\n",
    "  print(\"\\n💾 Saving the final model adapter...\")\n",
    "  trainer.save_model(\"scribe-assist-gemma-final-adapter\")\n",
    "  print(\"✅ Final model adapter saved successfully to 'scribe-assist-gemma-final-adapter'.\")"
   ]
  },
  {
   "cell_type": "code",
   "execution_count": null,
   "metadata": {
    "colab": {
     "base_uri": "https://localhost:8080/",
     "height": 138,
     "referenced_widgets": [
      "01e08ba27d2741df88eaeda7e87a7a52",
      "88214a43142249d1a11be57af8876ccc",
      "d057e18d52b5460fa4cbcd561155fd21",
      "558037c89fe4419cb8711e6858cbf29a",
      "e660f5a4791a466cb021461575e318bc",
      "c8921979179148ec88718c538d336d83",
      "070981626ae84cea95ebd7b5e3b59a70",
      "58b9739e55e14123889b2b704b10c406",
      "7419c093154a4254b76c37a8922aa8d1",
      "1986099b276a4ebc93853db8e77da53d",
      "14c3369bcc784cb4ba9648125f08ab00"
     ]
    },
    "id": "tN3L8zVwuMzr",
    "outputId": "b7070b46-5888-45c1-f1cd-7192e27549e0"
   },
   "outputs": [
    {
     "name": "stdout",
     "output_type": "stream",
     "text": [
      "🔄 Loading the fine-tuned model for inference...\n"
     ]
    },
    {
     "data": {
      "application/vnd.jupyter.widget-view+json": {
       "model_id": "01e08ba27d2741df88eaeda7e87a7a52",
       "version_major": 2,
       "version_minor": 0
      },
      "text/plain": [
       "Loading checkpoint shards:   0%|          | 0/2 [00:00<?, ?it/s]"
      ]
     },
     "metadata": {},
     "output_type": "display_data"
    },
    {
     "name": "stderr",
     "output_type": "stream",
     "text": [
      "/usr/local/lib/python3.11/dist-packages/peft/tuners/lora/bnb.py:348: UserWarning: Merge lora module to 4-bit linear may get different generations due to rounding errors.\n",
      "  warnings.warn(\n"
     ]
    },
    {
     "name": "stdout",
     "output_type": "stream",
     "text": [
      "✅ Fine-tuned model loaded and merged successfully.\n"
     ]
    }
   ],
   "source": [
    "from peft import PeftModel\n",
    "import torch\n",
    "\n",
    "# The path to our saved adapter\n",
    "adapter_path = \"scribe-assist-gemma-final-adapter\"\n",
    "\n",
    "print(\"🔄 Loading the fine-tuned model for inference...\")\n",
    "\n",
    "# Load the base model in 4-bit (as we did before)\n",
    "base_model = AutoModelForCausalLM.from_pretrained(\n",
    "    model_id,\n",
    "    quantization_config=quantization_config,\n",
    "    device_map=\"auto\",\n",
    "    token=os.environ[\"HF_TOKEN\"]\n",
    ")\n",
    "\n",
    "# Load the PeftModel by merging the adapter into the base model\n",
    "model = PeftModel.from_pretrained(base_model, adapter_path)\n",
    "\n",
    "# Merge the layers to make inference faster\n",
    "model = model.merge_and_unload()\n",
    "\n",
    "print(\"✅ Fine-tuned model loaded and merged successfully.\")"
   ]
  },
  {
   "cell_type": "code",
   "execution_count": null,
   "metadata": {
    "colab": {
     "base_uri": "https://localhost:8080/"
    },
    "id": "THVE1D-HuNUC",
    "outputId": "6de293e6-65ee-431c-ccec-abde704af140"
   },
   "outputs": [
    {
     "name": "stdout",
     "output_type": "stream",
     "text": [
      "✅ Test case selected and prepared successfully.\n"
     ]
    }
   ],
   "source": [
    "from datasets import load_dataset\n",
    "\n",
    "# Load the original dataset to select a clean test case\n",
    "raw_dataset = load_dataset(\"har1/MTS_Dialogue-Clinical_Note\", split=\"train\")\n",
    "\n",
    "# Select a challenging example (e.g., index 52)\n",
    "test_case = raw_dataset[52]\n",
    "test_dialogue = test_case['dialogue']\n",
    "test_header = test_case['section_header']\n",
    "ground_truth_note = test_case['section_text']\n",
    "\n",
    "# Prepare the prompt for the models\n",
    "instruction = f\"From the following doctor-patient dialogue, extract the key information and write the '{test_header}' section of a clinical note.\"\n",
    "prompt = f\"\"\"<start_of_turn>user\n",
    "{instruction}\n",
    "\n",
    "### Dialogue:\n",
    "{test_dialogue}<end_of_turn>\n",
    "<start_of_turn>model\n",
    "### Clinical Note Section:\n",
    "\"\"\"\n",
    "\n",
    "# Tokenize the prompt for inference\n",
    "inputs = tokenizer(prompt, return_tensors=\"pt\").to(\"cuda\")\n",
    "\n",
    "print(\"✅ Test case selected and prepared successfully.\")"
   ]
  },
  {
   "cell_type": "code",
   "execution_count": null,
   "metadata": {
    "colab": {
     "base_uri": "https://localhost:8080/",
     "height": 399,
     "referenced_widgets": [
      "7a13a29830f7449887255f0529682e09",
      "790b441464fa4a56bcd3770ef70232b3",
      "6cb87f36581f44849f3b53183d3f46d5",
      "5554c369547f408b8b434c44756edbb3",
      "cc44f54e3fdd4524a804d8eb8bb6f355",
      "34346828c3f04266af42a4b96b04bc31",
      "5974196368da448e8593c1fe5c966812",
      "8188bb780627458fb1b45d5f779c76df",
      "4a2d54fdb2b742fba5008acb7d215269",
      "d3eecf4b01364eef8c8dc6361d626970",
      "cd92b0a266e34beeb260186361098a26"
     ]
    },
    "id": "9vHo_DsfuSai",
    "outputId": "d182d5c1-533a-497c-9035-a40cffb7ea80"
   },
   "outputs": [
    {
     "name": "stdout",
     "output_type": "stream",
     "text": [
      "--- 🧠 BASE MODEL (BEFORE FINE-TUNING) ---\n"
     ]
    },
    {
     "data": {
      "application/vnd.jupyter.widget-view+json": {
       "model_id": "7a13a29830f7449887255f0529682e09",
       "version_major": 2,
       "version_minor": 0
      },
      "text/plain": [
       "Loading checkpoint shards:   0%|          | 0/2 [00:00<?, ?it/s]"
      ]
     },
     "metadata": {},
     "output_type": "display_data"
    },
    {
     "name": "stdout",
     "output_type": "stream",
     "text": [
      "GENHX: Patient is a 85-year-old male with a history of alcohol abuse and falls. He was found unconscious in his home and was admitted to the emergency room the night before.\n",
      "\n",
      "================================================================================\n",
      "\n",
      "--- ✨ SCRIBE-ASSIST (AFTER FINE-TUNING) ---\n",
      "Patient: Mister Smith, 85 years old.\n",
      "Presenting complaint: Fall from wheelchair resulting in facial injuries.\n",
      "History of present illness: Patient was admitted to the emergency room the night before with concerns of head injury. He was found in the home unresponsive and barley conscious. Patient was found in the home by his wife.\n",
      "Physical examination: Facial injuries, including a laceration on the left cheek.\n",
      "Investigations: Adult Protective Services were contacted and are investigating the incident.\n",
      "\n",
      "================================================================================\n",
      "\n",
      "--- 🎯 GROUND TRUTH (THE IDEAL NOTE) ---\n",
      "Symptoms: Decreased level of consciousness, facial injuries, possible elderly abuse, history of falling from wheelchair.\n",
      "Diagnosis: N/A (awaiting further evaluation).\n",
      "History of Patient: Patient experienced decreased mental status for a whole day following an accidental overdose of Xanax and lack of Sinemet and other home medications for the past 2 days.\n",
      "Plan of Action: Evaluate for possible overdose, assess facial injuries, investigate possible elder abuse, administer appropriate medications including Sinemet, monitor for improvement in mental status.\n"
     ]
    }
   ],
   "source": [
    "print(\"--- 🧠 BASE MODEL (BEFORE FINE-TUNING) ---\")\n",
    "\n",
    "# Load the original, un-tuned base model\n",
    "original_model = AutoModelForCausalLM.from_pretrained(\n",
    "    model_id,\n",
    "    torch_dtype=torch.bfloat16, # Use bfloat16 for faster inference\n",
    "    device_map=\"auto\",\n",
    "    token=os.environ[\"HF_TOKEN\"]\n",
    ")\n",
    "\n",
    "# Generate and decode the output\n",
    "outputs = original_model.generate(**inputs, max_new_tokens=200)\n",
    "decoded_output = tokenizer.decode(outputs[0], skip_special_tokens=True)\n",
    "print(decoded_output.split(\"### Clinical Note Section:\")[1].strip())\n",
    "\n",
    "\n",
    "# --- SEPARATOR ---\n",
    "print(\"\\n\" + \"=\"*80 + \"\\n\")\n",
    "\n",
    "\n",
    "print(\"--- ✨ SCRIBE-ASSIST (AFTER FINE-TUNING) ---\")\n",
    "\n",
    "# Generate and decode the output from our fine-tuned model\n",
    "# 'model' is the variable holding our merged, fine-tuned model from the previous step\n",
    "outputs = model.generate(**inputs, max_new_tokens=200)\n",
    "decoded_output = tokenizer.decode(outputs[0], skip_special_tokens=True)\n",
    "print(decoded_output.split(\"### Clinical Note Section:\")[1].strip())\n",
    "\n",
    "\n",
    "# --- SEPARATOR ---\n",
    "print(\"\\n\" + \"=\"*80 + \"\\n\")\n",
    "\n",
    "\n",
    "print(\"--- 🎯 GROUND TRUTH (THE IDEAL NOTE) ---\")\n",
    "print(ground_truth_note)"
   ]
  },
  {
   "cell_type": "code",
   "execution_count": null,
   "metadata": {
    "colab": {
     "base_uri": "https://localhost:8080/"
    },
    "id": "-JAWdvK1wHiL",
    "outputId": "ce3c970c-18c3-411d-e230-a79a2fa2241a"
   },
   "outputs": [
    {
     "name": "stdout",
     "output_type": "stream",
     "text": [
      "✅ Model adapter successfully saved to the folder: 'scribe-assist-gemma-adapter'\n"
     ]
    }
   ],
   "source": [
    "# Define a name for the local directory\n",
    "local_save_path = \"scribe-assist-gemma-adapter\"\n",
    "\n",
    "# Save the adapter weights\n",
    "trainer.save_model(local_save_path)\n",
    "\n",
    "print(f\"✅ Model adapter successfully saved to the folder: '{local_save_path}'\")"
   ]
  },
  {
   "cell_type": "code",
   "execution_count": null,
   "metadata": {
    "colab": {
     "base_uri": "https://localhost:8080/",
     "height": 579
    },
    "id": "J0z6_Z3rwdfH",
    "outputId": "84b67259-90e8-4f1f-90bf-d85e06f75679"
   },
   "outputs": [
    {
     "name": "stdout",
     "output_type": "stream",
     "text": [
      "✅ Training loss curve generated and saved as 'training_loss_curve.png'\n"
     ]
    },
    {
     "data": {
      "image/png": "[encoded data removed]",
      "text/plain": [
       "<Figure size 1000x600 with 1 Axes>"
      ]
     },
     "metadata": {},
     "output_type": "display_data"
    }
   ],
   "source": [
    "import matplotlib.pyplot as plt\n",
    "import pandas as pd\n",
    "\n",
    "# Extract the training logs from the trainer's history\n",
    "training_logs = trainer.state.log_history\n",
    "\n",
    "# Filter out the logs that contain the training loss\n",
    "loss_logs = [log for log in training_logs if 'loss' in log]\n",
    "\n",
    "# Create a pandas DataFrame for easy plotting\n",
    "df = pd.DataFrame(loss_logs)\n",
    "\n",
    "# Create the plot\n",
    "plt.style.use('seaborn-v0_8-whitegrid')\n",
    "fig, ax = plt.subplots(figsize=(10, 6))\n",
    "\n",
    "ax.plot(df['step'], df['loss'], marker='o', linestyle='-', color='#1f77b4', label='Training Loss')\n",
    "\n",
    "# Add titles and labels for clarity\n",
    "ax.set_title('Training Loss Curve for Scribe-Assist', fontsize=16, fontweight='bold')\n",
    "ax.set_xlabel('Training Steps', fontsize=12)\n",
    "ax.set_ylabel('Loss', fontsize=12)\n",
    "ax.legend(fontsize=10)\n",
    "ax.grid(True)\n",
    "\n",
    "# Save the plot as a high-quality image\n",
    "plt.savefig('training_loss_curve.png', dpi=300, bbox_inches='tight')\n",
    "\n",
    "print(\"✅ Training loss curve generated and saved as 'training_loss_curve.png'\")\n",
    "plt.show()"
   ]
  }
 ],
 "metadata": {
  "accelerator": "GPU",
  "colab": {
   "gpuType": "T4",
   "provenance": []
  },
  "kernelspec": {
   "display_name": "Python 3",
   "name": "python3"
  },
  "language_info": {
   "name": "python"
  }
 },
 "nbformat": 4,
 "nbformat_minor": 0
}
